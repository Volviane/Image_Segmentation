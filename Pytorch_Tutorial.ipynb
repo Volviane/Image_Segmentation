{
  "nbformat": 4,
  "nbformat_minor": 0,
  "metadata": {
    "colab": {
      "name": "Copy of Pytorch Tutorial.ipynb",
      "provenance": [],
      "collapsed_sections": [],
      "include_colab_link": true
    },
    "kernelspec": {
      "name": "python3",
      "display_name": "Python 3"
    },
    "accelerator": "GPU"
  },
  "cells": [
    {
      "cell_type": "markdown",
      "metadata": {
        "id": "view-in-github",
        "colab_type": "text"
      },
      "source": [
        "<a href=\"https://colab.research.google.com/github/Volviane/Image_Segmentation/blob/master/Pytorch_Tutorial.ipynb\" target=\"_parent\"><img src=\"https://colab.research.google.com/assets/colab-badge.svg\" alt=\"Open In Colab\"/></a>"
      ]
    },
    {
      "cell_type": "markdown",
      "metadata": {
        "id": "RR8LbSoxjarZ",
        "colab_type": "text"
      },
      "source": [
        "# [**The Full Original Tutorial**](https://pytorch.org/tutorials/beginner/deep_learning_60min_blitz.html)\n",
        "What is PyTorch?\n",
        "================\n",
        "\n",
        "It’s a Python-based scientific computing package targeted at two sets of\n",
        "audiences:\n",
        "\n",
        "-  A replacement for NumPy to use the power of GPUs\n",
        "-  a deep learning research platform that provides maximum flexibility\n",
        "   and speed\n",
        "\n",
        "1.Getting Started\n",
        "---------------\n",
        "\n",
        "Tensors\n",
        "^^^^^^^\n",
        "\n",
        "Tensors are similar to NumPy’s ndarrays, with the addition being that\n",
        "Tensors can also be used on a GPU to accelerate computing.\n",
        "\n"
      ]
    },
    {
      "cell_type": "code",
      "metadata": {
        "id": "f1SUhfX2iZvu",
        "colab_type": "code",
        "colab": {}
      },
      "source": [
        "import torch\n",
        "import matplotlib.pyplot as plt\n",
        "import numpy as np"
      ],
      "execution_count": 0,
      "outputs": []
    },
    {
      "cell_type": "code",
      "metadata": {
        "id": "T-d6PCDGjn33",
        "colab_type": "code",
        "outputId": "02711c51-e55a-4dbe-d57a-b2f4d08f2573",
        "colab": {
          "base_uri": "https://localhost:8080/",
          "height": 51
        }
      },
      "source": [
        "# torch.empty()\n",
        "torch.empty((2,3))"
      ],
      "execution_count": 8,
      "outputs": [
        {
          "output_type": "execute_result",
          "data": {
            "text/plain": [
              "tensor([[6.0403e-36, 0.0000e+00, 4.4842e-44],\n",
              "        [0.0000e+00,        nan, 6.4460e-44]])"
            ]
          },
          "metadata": {
            "tags": []
          },
          "execution_count": 8
        }
      ]
    },
    {
      "cell_type": "code",
      "metadata": {
        "id": "-iwzp904lG4Q",
        "colab_type": "code",
        "outputId": "deb4ab7f-aae5-4c02-c6ac-e8757a273d07",
        "colab": {
          "base_uri": "https://localhost:8080/",
          "height": 68
        }
      },
      "source": [
        "# torch.rand() \n",
        "torch.rand((3,4))"
      ],
      "execution_count": 9,
      "outputs": [
        {
          "output_type": "execute_result",
          "data": {
            "text/plain": [
              "tensor([[0.2449, 0.9357, 0.8950, 0.9765],\n",
              "        [0.2057, 0.9867, 0.6985, 0.5886],\n",
              "        [0.7002, 0.6039, 0.3650, 0.0148]])"
            ]
          },
          "metadata": {
            "tags": []
          },
          "execution_count": 9
        }
      ]
    },
    {
      "cell_type": "code",
      "metadata": {
        "id": "Ve18uqMElRy6",
        "colab_type": "code",
        "outputId": "d1038f1e-7961-4693-c27a-924f48b31f64",
        "colab": {
          "base_uri": "https://localhost:8080/",
          "height": 51
        }
      },
      "source": [
        "# torch.zeros()\n",
        "a = torch.zeros((2,3))\n",
        "a"
      ],
      "execution_count": 10,
      "outputs": [
        {
          "output_type": "execute_result",
          "data": {
            "text/plain": [
              "tensor([[0., 0., 0.],\n",
              "        [0., 0., 0.]])"
            ]
          },
          "metadata": {
            "tags": []
          },
          "execution_count": 10
        }
      ]
    },
    {
      "cell_type": "code",
      "metadata": {
        "id": "ZEHsJuCzldKF",
        "colab_type": "code",
        "outputId": "92452b09-1fd2-48d4-b868-a22c21a8d01f",
        "colab": {
          "base_uri": "https://localhost:8080/",
          "height": 34
        }
      },
      "source": [
        "# torch.tensor()\n",
        "torch.tensor([1,2,3])"
      ],
      "execution_count": 11,
      "outputs": [
        {
          "output_type": "execute_result",
          "data": {
            "text/plain": [
              "tensor([1, 2, 3])"
            ]
          },
          "metadata": {
            "tags": []
          },
          "execution_count": 11
        }
      ]
    },
    {
      "cell_type": "code",
      "metadata": {
        "id": "CYm7rPENl1T1",
        "colab_type": "code",
        "outputId": "fdcf7c9e-2553-46fb-8275-05d3ab1ab349",
        "colab": {
          "base_uri": "https://localhost:8080/",
          "height": 165
        }
      },
      "source": [
        "# torch.randn_like()\n",
        "torch.rand_like(torch.tensor([1,2]))"
      ],
      "execution_count": 12,
      "outputs": [
        {
          "output_type": "error",
          "ename": "RuntimeError",
          "evalue": "ignored",
          "traceback": [
            "\u001b[0;31m---------------------------------------------------------------------------\u001b[0m",
            "\u001b[0;31mRuntimeError\u001b[0m                              Traceback (most recent call last)",
            "\u001b[0;32m<ipython-input-12-221e339d5f43>\u001b[0m in \u001b[0;36m<module>\u001b[0;34m()\u001b[0m\n\u001b[0;32m----> 1\u001b[0;31m \u001b[0mtorch\u001b[0m\u001b[0;34m.\u001b[0m\u001b[0mrand_like\u001b[0m\u001b[0;34m(\u001b[0m\u001b[0mtorch\u001b[0m\u001b[0;34m.\u001b[0m\u001b[0mtensor\u001b[0m\u001b[0;34m(\u001b[0m\u001b[0;34m[\u001b[0m\u001b[0;36m1\u001b[0m\u001b[0;34m,\u001b[0m\u001b[0;36m2\u001b[0m\u001b[0;34m]\u001b[0m\u001b[0;34m)\u001b[0m\u001b[0;34m)\u001b[0m\u001b[0;34m\u001b[0m\u001b[0;34m\u001b[0m\u001b[0m\n\u001b[0m",
            "\u001b[0;31mRuntimeError\u001b[0m: _th_uniform_ not supported on CPUType for Long"
          ]
        }
      ]
    },
    {
      "cell_type": "code",
      "metadata": {
        "id": "rIF931adl-Dr",
        "colab_type": "code",
        "outputId": "b7ec87de-dcfd-4377-b3d1-a66aeaee3c30",
        "colab": {
          "base_uri": "https://localhost:8080/",
          "height": 34
        }
      },
      "source": [
        "# size()\n",
        "a.size()\n"
      ],
      "execution_count": 13,
      "outputs": [
        {
          "output_type": "execute_result",
          "data": {
            "text/plain": [
              "torch.Size([2, 3])"
            ]
          },
          "metadata": {
            "tags": []
          },
          "execution_count": 13
        }
      ]
    },
    {
      "cell_type": "code",
      "metadata": {
        "id": "KilNAyw2mDWQ",
        "colab_type": "code",
        "outputId": "e2bfa2be-8b75-4008-f740-3ae3efe946a7",
        "colab": {
          "base_uri": "https://localhost:8080/",
          "height": 51
        }
      },
      "source": [
        "# torch.add()\n",
        "a = torch.rand(2,3)\n",
        "b= torch.rand(2,3)\n",
        "\n",
        "a+b==torch.add(a,b)"
      ],
      "execution_count": 14,
      "outputs": [
        {
          "output_type": "execute_result",
          "data": {
            "text/plain": [
              "tensor([[True, True, True],\n",
              "        [True, True, True]])"
            ]
          },
          "metadata": {
            "tags": []
          },
          "execution_count": 14
        }
      ]
    },
    {
      "cell_type": "code",
      "metadata": {
        "id": "n5dS3kS8mKkQ",
        "colab_type": "code",
        "outputId": "97ff08fa-3b08-4975-9ce8-9746216ae31e",
        "colab": {
          "base_uri": "https://localhost:8080/",
          "height": 34
        }
      },
      "source": [
        "# item()\n",
        "torch.rand(1).item()\n"
      ],
      "execution_count": 15,
      "outputs": [
        {
          "output_type": "execute_result",
          "data": {
            "text/plain": [
              "0.3261205554008484"
            ]
          },
          "metadata": {
            "tags": []
          },
          "execution_count": 15
        }
      ]
    },
    {
      "cell_type": "code",
      "metadata": {
        "id": "-7SBM_vUmyzL",
        "colab_type": "code",
        "outputId": "36114bb0-8f3e-4c9f-e78c-1e32611140cd",
        "colab": {
          "base_uri": "https://localhost:8080/",
          "height": 34
        }
      },
      "source": [
        "# a.numpy()\n",
        "# torch.from_numpy()\n",
        "\n",
        "a = np.array([1,2,3])\n",
        "torch.from_numpy(a).numpy()\n"
      ],
      "execution_count": 16,
      "outputs": [
        {
          "output_type": "execute_result",
          "data": {
            "text/plain": [
              "array([1, 2, 3])"
            ]
          },
          "metadata": {
            "tags": []
          },
          "execution_count": 16
        }
      ]
    },
    {
      "cell_type": "code",
      "metadata": {
        "id": "aqqSrEYInEj1",
        "colab_type": "code",
        "outputId": "4dfc97fb-9a3a-44fb-be5a-beae5dff8f24",
        "colab": {
          "base_uri": "https://localhost:8080/",
          "height": 34
        }
      },
      "source": [
        "torch.cuda.is_available()"
      ],
      "execution_count": 17,
      "outputs": [
        {
          "output_type": "execute_result",
          "data": {
            "text/plain": [
              "True"
            ]
          },
          "metadata": {
            "tags": []
          },
          "execution_count": 17
        }
      ]
    },
    {
      "cell_type": "code",
      "metadata": {
        "id": "E13_G9-JmmAE",
        "colab_type": "code",
        "outputId": "2a6d7233-945d-404b-c62b-aaea2023e97a",
        "colab": {
          "base_uri": "https://localhost:8080/",
          "height": 51
        }
      },
      "source": [
        "%%time\n",
        "a = torch.rand(1000,1000)\n",
        "y = torch.rand_like(a)\n",
        "for i in range(10):\n",
        "    y = y**y"
      ],
      "execution_count": 18,
      "outputs": [
        {
          "output_type": "stream",
          "text": [
            "CPU times: user 115 ms, sys: 6.87 ms, total: 122 ms\n",
            "Wall time: 129 ms\n"
          ],
          "name": "stdout"
        }
      ]
    },
    {
      "cell_type": "code",
      "metadata": {
        "id": "OHrlTDjfnQSR",
        "colab_type": "code",
        "outputId": "7c953af6-f507-427b-9d7a-96dc75b0b65e",
        "colab": {
          "base_uri": "https://localhost:8080/",
          "height": 51
        }
      },
      "source": [
        "%%time\n",
        "a = torch.rand(1000,1000)\n",
        "y = torch.rand_like(a,device='cuda')\n",
        "for i in range(10):\n",
        "    y = y**y"
      ],
      "execution_count": 19,
      "outputs": [
        {
          "output_type": "stream",
          "text": [
            "CPU times: user 1.64 s, sys: 747 ms, total: 2.38 s\n",
            "Wall time: 8.04 s\n"
          ],
          "name": "stdout"
        }
      ]
    },
    {
      "cell_type": "markdown",
      "metadata": {
        "id": "9jYBndyynTSz",
        "colab_type": "text"
      },
      "source": [
        "# 2.Autograd: Automatic Differentiation\n",
        "\n",
        "\n",
        "``` code\n",
        "            def gradient(y,y_pred,x):\n",
        "                    return np.dot(x.T,(y_pred-y))\n",
        "\n",
        "```"
      ]
    },
    {
      "cell_type": "code",
      "metadata": {
        "id": "_okhpU_hnimx",
        "colab_type": "code",
        "outputId": "562d9fe3-2c6e-4867-9feb-cb2fc31bf4e2",
        "colab": {
          "base_uri": "https://localhost:8080/",
          "height": 34
        }
      },
      "source": [
        "x = torch.rand(1, requires_grad=True)\n",
        "y = torch.rand(1, requires_grad=True)\n",
        "z= torch.rand(1, requires_grad=True)\n",
        "\n",
        "# print(x.grad,y.grad,z.grad)\n",
        "print(x,y)"
      ],
      "execution_count": 20,
      "outputs": [
        {
          "output_type": "stream",
          "text": [
            "tensor([0.4577], requires_grad=True) tensor([0.8886], requires_grad=True)\n"
          ],
          "name": "stdout"
        }
      ]
    },
    {
      "cell_type": "code",
      "metadata": {
        "id": "OOjICfBPq5R5",
        "colab_type": "code",
        "outputId": "f9b32b0d-5702-4779-ed9c-ac024441ab2c",
        "colab": {
          "base_uri": "https://localhost:8080/",
          "height": 34
        }
      },
      "source": [
        "one = x * y\n",
        "two = one + z\n",
        "three = torch.sigmoid(two)\n",
        "\n",
        "print(three)"
      ],
      "execution_count": 21,
      "outputs": [
        {
          "output_type": "stream",
          "text": [
            "tensor([0.6640], grad_fn=<SigmoidBackward>)\n"
          ],
          "name": "stdout"
        }
      ]
    },
    {
      "cell_type": "code",
      "metadata": {
        "id": "-NkfalJXrMpU",
        "colab_type": "code",
        "outputId": "197c63cf-e58a-4599-c497-ecc189b5b88b",
        "colab": {
          "base_uri": "https://localhost:8080/",
          "height": 34
        }
      },
      "source": [
        "three.backward()\n",
        "\n",
        "print(x.grad,y.grad,z.grad)"
      ],
      "execution_count": 22,
      "outputs": [
        {
          "output_type": "stream",
          "text": [
            "tensor([0.1982]) tensor([0.1021]) tensor([0.2231])\n"
          ],
          "name": "stdout"
        }
      ]
    },
    {
      "cell_type": "code",
      "metadata": {
        "id": "Zvw9F6e7rRl8",
        "colab_type": "code",
        "colab": {}
      },
      "source": [
        "\n"
      ],
      "execution_count": 0,
      "outputs": []
    },
    {
      "cell_type": "markdown",
      "metadata": {
        "id": "_-5kJxXmuJ2l",
        "colab_type": "text"
      },
      "source": [
        "# CNN"
      ]
    },
    {
      "cell_type": "code",
      "metadata": {
        "id": "j7kF3eo80iKG",
        "colab_type": "code",
        "colab": {}
      },
      "source": [
        "def get_shape(h,p=0,k=3,s=1):\n",
        "    return ((h+(2*p)-k)/s)+1"
      ],
      "execution_count": 0,
      "outputs": []
    },
    {
      "cell_type": "code",
      "metadata": {
        "id": "5GnRmmE102Tq",
        "colab_type": "code",
        "outputId": "0208ec5d-4b17-4a68-cbb6-19d440163400",
        "colab": {
          "base_uri": "https://localhost:8080/",
          "height": 34
        }
      },
      "source": [
        "get_shape(15,k=3)//2"
      ],
      "execution_count": 24,
      "outputs": [
        {
          "output_type": "execute_result",
          "data": {
            "text/plain": [
              "6.0"
            ]
          },
          "metadata": {
            "tags": []
          },
          "execution_count": 24
        }
      ]
    },
    {
      "cell_type": "code",
      "metadata": {
        "id": "nitsXv9Yvex_",
        "colab_type": "code",
        "colab": {}
      },
      "source": [
        "import torch\n",
        "import torch.nn as nn\n",
        "import torch.nn.functional as F"
      ],
      "execution_count": 0,
      "outputs": []
    },
    {
      "cell_type": "code",
      "metadata": {
        "id": "m4z3zoRDvkXs",
        "colab_type": "code",
        "colab": {}
      },
      "source": [
        "class Classification(nn.Module):\n",
        "    def __init__(self):\n",
        "        super(Classification,self).__init__()\n",
        "        self.conv1 = nn.Conv2d(in_channels=3,out_channels=64,kernel_size=3)\n",
        "        self.conv2 = nn.Conv2d(in_channels=64,out_channels=128,kernel_size=3)\n",
        "        self.fc1 = nn.Linear(in_features=6*6*128,out_features=120)\n",
        "        self.fc2 = nn.Linear(in_features=120,out_features=10)\n",
        "        \n",
        "\n",
        "\n",
        "    def forward(self,x):\n",
        "        x = F.max_pool2d(F.relu(self.conv1(x)),2)\n",
        "        x = F.max_pool2d(F.relu(self.conv2(x)),2)\n",
        "\n",
        "        x = x.view(-1,6*6*128)\n",
        "\n",
        "        x = F.relu(self.fc1(x))\n",
        "        x = self.fc2(x)\n",
        "\n",
        "        return x\n",
        "\n",
        "    def num_flat_features(self,x):\n",
        "        size = x.size()[1:]\n",
        "        num_features = 1\n",
        "        for s in size:\n",
        "            num_features *= s\n",
        "        \n",
        "        return num_features\n",
        "\n"
      ],
      "execution_count": 0,
      "outputs": []
    },
    {
      "cell_type": "code",
      "metadata": {
        "id": "-znffyVjzI6I",
        "colab_type": "code",
        "outputId": "97c50bcd-f0d6-42bc-bc4f-bb69921d059f",
        "colab": {
          "base_uri": "https://localhost:8080/",
          "height": 120
        }
      },
      "source": [
        "net =  Classification()\n",
        "print(net)"
      ],
      "execution_count": 27,
      "outputs": [
        {
          "output_type": "stream",
          "text": [
            "Classification(\n",
            "  (conv1): Conv2d(3, 64, kernel_size=(3, 3), stride=(1, 1))\n",
            "  (conv2): Conv2d(64, 128, kernel_size=(3, 3), stride=(1, 1))\n",
            "  (fc1): Linear(in_features=4608, out_features=120, bias=True)\n",
            "  (fc2): Linear(in_features=120, out_features=10, bias=True)\n",
            ")\n"
          ],
          "name": "stdout"
        }
      ]
    },
    {
      "cell_type": "code",
      "metadata": {
        "id": "-vceOKjQzZRe",
        "colab_type": "code",
        "colab": {}
      },
      "source": [
        "# from torchsummary import summary\n",
        "# summary(net.to('cpu'), (3, 224, 224))"
      ],
      "execution_count": 0,
      "outputs": []
    },
    {
      "cell_type": "code",
      "metadata": {
        "id": "wLZU8a02zvT_",
        "colab_type": "code",
        "outputId": "7a2883c6-867e-4a6a-aa0c-cdaeb08cec65",
        "colab": {
          "base_uri": "https://localhost:8080/",
          "height": 34
        }
      },
      "source": [
        "param = list(net.parameters())\n",
        "param[0][0][0].size()"
      ],
      "execution_count": 29,
      "outputs": [
        {
          "output_type": "execute_result",
          "data": {
            "text/plain": [
              "torch.Size([3, 3])"
            ]
          },
          "metadata": {
            "tags": []
          },
          "execution_count": 29
        }
      ]
    },
    {
      "cell_type": "code",
      "metadata": {
        "id": "_r_2JbvI19G6",
        "colab_type": "code",
        "outputId": "463444b6-23e0-41a9-e44c-f99b43519313",
        "colab": {
          "base_uri": "https://localhost:8080/",
          "height": 286
        }
      },
      "source": [
        "filter_0 = param[0][0][0].detach().numpy()\n",
        "plt.imshow(filter_0)"
      ],
      "execution_count": 30,
      "outputs": [
        {
          "output_type": "execute_result",
          "data": {
            "text/plain": [
              "<matplotlib.image.AxesImage at 0x7f1d38d002b0>"
            ]
          },
          "metadata": {
            "tags": []
          },
          "execution_count": 30
        },
        {
          "output_type": "display_data",
          "data": {
            "image/png": "[encoded data removed]",
            "text/plain": [
              "<Figure size 432x288 with 1 Axes>"
            ]
          },
          "metadata": {
            "tags": []
          }
        }
      ]
    },
    {
      "cell_type": "code",
      "metadata": {
        "id": "wkYDp7dt229v",
        "colab_type": "code",
        "outputId": "b0f856c0-57d5-49c3-cecb-fbe03c3b1160",
        "colab": {
          "base_uri": "https://localhost:8080/",
          "height": 34
        }
      },
      "source": [
        "input = torch.randn(1, 3, 32, 32)\n",
        "out = net(input)\n",
        "print(out.size())"
      ],
      "execution_count": 31,
      "outputs": [
        {
          "output_type": "stream",
          "text": [
            "torch.Size([1, 10])\n"
          ],
          "name": "stdout"
        }
      ]
    },
    {
      "cell_type": "code",
      "metadata": {
        "id": "WNXXc94F33-B",
        "colab_type": "code",
        "colab": {}
      },
      "source": [
        "# Zero the gradient buffers of all parameters and backprops with random gradients:\n",
        "\n",
        "net.zero_grad()\n",
        "out.backward(torch.randn(1, 10))"
      ],
      "execution_count": 0,
      "outputs": []
    },
    {
      "cell_type": "code",
      "metadata": {
        "id": "T_WYst4Y4-av",
        "colab_type": "code",
        "outputId": "c9912b05-2576-436d-f358-81b8270b499b",
        "colab": {
          "base_uri": "https://localhost:8080/",
          "height": 34
        }
      },
      "source": [
        "# Loss Function\n",
        "output = net(input)\n",
        "target = torch.randn(10)  \n",
        "target = target.view(1, -1) \n",
        "\n",
        "criterion = nn.MSELoss()\n",
        "\n",
        "loss = criterion(output, target)\n",
        "print(loss)"
      ],
      "execution_count": 33,
      "outputs": [
        {
          "output_type": "stream",
          "text": [
            "tensor(0.9954, grad_fn=<MseLossBackward>)\n"
          ],
          "name": "stdout"
        }
      ]
    },
    {
      "cell_type": "code",
      "metadata": {
        "id": "lklYNd4354vr",
        "colab_type": "code",
        "colab": {}
      },
      "source": [
        "loss.backward()\n",
        "# net.conv1.weight.grad"
      ],
      "execution_count": 0,
      "outputs": []
    },
    {
      "cell_type": "code",
      "metadata": {
        "id": "mCKOwMQj6RxO",
        "colab_type": "code",
        "outputId": "5081f66d-86b4-4604-a86d-6f3061a87997",
        "colab": {
          "base_uri": "https://localhost:8080/",
          "height": 360
        }
      },
      "source": [
        "import torch.optim as optim\n",
        "\n",
        "input = torch.randn(1, 3, 32, 32)\n",
        "# out = net(input)\n",
        "# print(out)\n",
        "\n",
        "optimizer = optim.SGD(net.parameters(), lr=0.01)\n",
        "\n",
        "optimizer.zero_grad() \n",
        "print(net.conv1.bias)  \n",
        "output = net(input)\n",
        "loss = criterion(output, target)\n",
        "loss.backward()\n",
        "optimizer.step() \n",
        "print(net.conv1.bias) "
      ],
      "execution_count": 35,
      "outputs": [
        {
          "output_type": "stream",
          "text": [
            "Parameter containing:\n",
            "tensor([ 0.0485, -0.1254,  0.0991, -0.1661, -0.1807, -0.1867,  0.0583,  0.0348,\n",
            "        -0.1167,  0.0790,  0.0027,  0.0966,  0.1844, -0.0631, -0.0327,  0.0313,\n",
            "        -0.0149,  0.0106,  0.0990,  0.1025, -0.1669, -0.1315,  0.1772,  0.0640,\n",
            "         0.0705, -0.0899,  0.0940, -0.1226, -0.1669,  0.0552,  0.1315,  0.0593,\n",
            "        -0.0109, -0.1327,  0.0026, -0.0155, -0.1717, -0.0748,  0.0272,  0.0049,\n",
            "        -0.0235, -0.1228,  0.0363, -0.0457, -0.0685,  0.1202,  0.0469,  0.1358,\n",
            "         0.0866, -0.0086, -0.0644, -0.1294, -0.1572,  0.1296,  0.0455, -0.1560,\n",
            "        -0.0371, -0.1796, -0.1292, -0.0732,  0.1576, -0.1124,  0.0771,  0.1917],\n",
            "       requires_grad=True)\n",
            "Parameter containing:\n",
            "tensor([ 0.0485, -0.1254,  0.0990, -0.1662, -0.1807, -0.1867,  0.0584,  0.0347,\n",
            "        -0.1167,  0.0789,  0.0029,  0.0966,  0.1844, -0.0630, -0.0327,  0.0312,\n",
            "        -0.0149,  0.0106,  0.0989,  0.1025, -0.1668, -0.1316,  0.1771,  0.0640,\n",
            "         0.0706, -0.0899,  0.0941, -0.1227, -0.1670,  0.0552,  0.1315,  0.0594,\n",
            "        -0.0109, -0.1328,  0.0027, -0.0155, -0.1715, -0.0747,  0.0273,  0.0048,\n",
            "        -0.0235, -0.1227,  0.0363, -0.0456, -0.0686,  0.1201,  0.0470,  0.1359,\n",
            "         0.0865, -0.0085, -0.0645, -0.1293, -0.1572,  0.1296,  0.0455, -0.1560,\n",
            "        -0.0371, -0.1796, -0.1291, -0.0732,  0.1576, -0.1124,  0.0771,  0.1916],\n",
            "       requires_grad=True)\n"
          ],
          "name": "stdout"
        }
      ]
    },
    {
      "cell_type": "code",
      "metadata": {
        "id": "Rp_pLohn7B7Y",
        "colab_type": "code",
        "colab": {}
      },
      "source": [
        ""
      ],
      "execution_count": 0,
      "outputs": []
    },
    {
      "cell_type": "code",
      "metadata": {
        "id": "B9QraKey7cJ9",
        "colab_type": "code",
        "colab": {}
      },
      "source": [
        ""
      ],
      "execution_count": 0,
      "outputs": []
    },
    {
      "cell_type": "markdown",
      "metadata": {
        "id": "Zi_EJ0Ag7cr9",
        "colab_type": "text"
      },
      "source": [
        "# TRAINING A CLASSIFIER \n",
        "\n",
        "[Cifar Data](https://www.cs.toronto.edu/~kriz/cifar.html)"
      ]
    },
    {
      "cell_type": "code",
      "metadata": {
        "id": "Cj0MQ6d27g21",
        "colab_type": "code",
        "colab": {}
      },
      "source": [
        "import torch\n",
        "import torchvision\n",
        "import torchvision.transforms as transforms"
      ],
      "execution_count": 0,
      "outputs": []
    },
    {
      "cell_type": "markdown",
      "metadata": {
        "id": "oj-7E2yykl1r",
        "colab_type": "text"
      },
      "source": [
        "https://pytorch.org/docs/stable/torchvision/transforms.html"
      ]
    },
    {
      "cell_type": "code",
      "metadata": {
        "id": "hgSPf1D071FF",
        "colab_type": "code",
        "colab": {}
      },
      "source": [
        "transform = transforms.Compose([transforms.ToTensor(),\n",
        "                                transforms.Normalize((0.5, 0.5, 0.5), (0.5, 0.5, 0.5))])"
      ],
      "execution_count": 0,
      "outputs": []
    },
    {
      "cell_type": "markdown",
      "metadata": {
        "id": "4gMR8KnikpF0",
        "colab_type": "text"
      },
      "source": [
        ""
      ]
    },
    {
      "cell_type": "code",
      "metadata": {
        "id": "CzPRhjyFfMgI",
        "colab_type": "code",
        "outputId": "a20ca56c-453d-40a8-9e02-0f7b22c5e74a",
        "colab": {
          "base_uri": "https://localhost:8080/",
          "height": 88
        }
      },
      "source": [
        "\n",
        "trainset = torchvision.datasets.CIFAR10(root='./data', train=True,\n",
        "                                        download=True, transform=transform)\n",
        "\n",
        "\n",
        "testset = torchvision.datasets.CIFAR10(root='./data', train=False,\n",
        "                                       download=True, transform=transform)"
      ],
      "execution_count": 41,
      "outputs": [
        {
          "output_type": "stream",
          "text": [
            "\r0it [00:00, ?it/s]"
          ],
          "name": "stderr"
        },
        {
          "output_type": "stream",
          "text": [
            "Downloading https://www.cs.toronto.edu/~kriz/cifar-10-python.tar.gz to ./data/cifar-10-python.tar.gz\n"
          ],
          "name": "stdout"
        },
        {
          "output_type": "stream",
          "text": [
            " 99%|█████████▉| 168566784/170498071 [00:12<00:00, 18011365.33it/s]"
          ],
          "name": "stderr"
        },
        {
          "output_type": "stream",
          "text": [
            "Extracting ./data/cifar-10-python.tar.gz to ./data\n",
            "Files already downloaded and verified\n"
          ],
          "name": "stdout"
        }
      ]
    },
    {
      "cell_type": "markdown",
      "metadata": {
        "id": "6yYdqYGVk5ah",
        "colab_type": "text"
      },
      "source": [
        "```\n",
        "\n",
        "        data_path = 'data/train/'\n",
        "        train_dataset = torchvision.datasets.ImageFolder(\n",
        "            root=data_path,\n",
        "            transform=transform\n",
        "        )\n",
        "```"
      ]
    },
    {
      "cell_type": "code",
      "metadata": {
        "id": "DcVNdwIPfSIp",
        "colab_type": "code",
        "colab": {}
      },
      "source": [
        "trainloader = torch.utils.data.DataLoader(trainset, batch_size=64,\n",
        "                                          shuffle=True, num_workers=4)\n",
        "testloader = torch.utils.data.DataLoader(testset, batch_size=64,\n",
        "                                         shuffle=False, num_workers=4)\n",
        "\n",
        "classes = ('plane', 'car', 'bird', 'cat',\n",
        "           'deer', 'dog', 'frog', 'horse', 'ship', 'truck')"
      ],
      "execution_count": 0,
      "outputs": []
    },
    {
      "cell_type": "code",
      "metadata": {
        "id": "5llRukjVfWro",
        "colab_type": "code",
        "outputId": "b0bbd96c-150b-4aa3-c73a-eed2afec331d",
        "colab": {
          "base_uri": "https://localhost:8080/",
          "height": 286
        }
      },
      "source": [
        "import matplotlib.pyplot as plt\n",
        "import numpy as np\n",
        "\n",
        "# functions to show an image\n",
        "\n",
        "\n",
        "def imshow(img):\n",
        "    img = img / 2 + 0.5     # unnormalize\n",
        "    npimg = img.numpy()\n",
        "    plt.imshow(np.transpose(npimg, (1, 2, 0)))\n",
        "    plt.show()\n",
        "\n",
        "\n",
        "# get some random training images\n",
        "dataiter = iter(trainloader)\n",
        "images, labels = dataiter.next()\n",
        "\n",
        "# show images\n",
        "imshow(torchvision.utils.make_grid(images))\n",
        "# print labels\n",
        "print(' '.join('%5s' % classes[labels[j]] for j in range(4)))"
      ],
      "execution_count": 61,
      "outputs": [
        {
          "output_type": "display_data",
          "data": {
            "image/png": "[encoded data removed]",
            "text/plain": [
              "<Figure size 432x288 with 1 Axes>"
            ]
          },
          "metadata": {
            "tags": []
          }
        },
        {
          "output_type": "stream",
          "text": [
            "  car  frog  bird  frog\n"
          ],
          "name": "stdout"
        }
      ]
    },
    {
      "cell_type": "code",
      "metadata": {
        "id": "_3afj_-pfgga",
        "colab_type": "code",
        "colab": {
          "base_uri": "https://localhost:8080/",
          "height": 120
        },
        "outputId": "021ca2f5-39e4-4ea4-9eba-f866d594efeb"
      },
      "source": [
        "net =  Classification()\n",
        "net"
      ],
      "execution_count": 62,
      "outputs": [
        {
          "output_type": "execute_result",
          "data": {
            "text/plain": [
              "Classification(\n",
              "  (conv1): Conv2d(3, 64, kernel_size=(3, 3), stride=(1, 1))\n",
              "  (conv2): Conv2d(64, 128, kernel_size=(3, 3), stride=(1, 1))\n",
              "  (fc1): Linear(in_features=4608, out_features=120, bias=True)\n",
              "  (fc2): Linear(in_features=120, out_features=10, bias=True)\n",
              ")"
            ]
          },
          "metadata": {
            "tags": []
          },
          "execution_count": 62
        }
      ]
    },
    {
      "cell_type": "code",
      "metadata": {
        "id": "6VgANcN4fx1N",
        "colab_type": "code",
        "colab": {}
      },
      "source": [
        "criterion = nn.CrossEntropyLoss()\n",
        "optimizer = optim.SGD(net.parameters(), lr=0.001, momentum=0.9)"
      ],
      "execution_count": 0,
      "outputs": []
    },
    {
      "cell_type": "code",
      "metadata": {
        "id": "ChqXvQXSfy3N",
        "colab_type": "code",
        "outputId": "1fca1a36-42c7-4bf1-d8fc-f3370b512a4e",
        "colab": {
          "base_uri": "https://localhost:8080/",
          "height": 1000
        }
      },
      "source": [
        "for epoch in range(1):  # loop over the dataset multiple times\n",
        "\n",
        "    running_loss = 0.0\n",
        "    for i, data in enumerate(trainloader, 0):\n",
        "        # get the inputs; data is a list of [inputs, labels]\n",
        "        inputs, labels = data\n",
        "\n",
        "        # zero the parameter gradients\n",
        "        optimizer.zero_grad()\n",
        "\n",
        "        # forward + backward + optimize\n",
        "        outputs = net(inputs)\n",
        "        loss = criterion(outputs, labels)\n",
        "        loss.backward()\n",
        "        optimizer.step()\n",
        "\n",
        "        print(loss)\n",
        "        # print statistics\n",
        "        running_loss += loss.item()\n",
        "        if i % 2000 == 1999:    # print every 2000 mini-batches\n",
        "            print('[%d, %5d] loss: %.3f' %\n",
        "                  (epoch + 1, i + 1, running_loss / 2000))\n",
        "            running_loss = 0.0\n",
        "\n",
        "print('Finished Training')"
      ],
      "execution_count": 74,
      "outputs": [
        {
          "output_type": "stream",
          "text": [
            "tensor(1.8507, grad_fn=<NllLossBackward>)\n",
            "tensor(1.6965, grad_fn=<NllLossBackward>)\n",
            "tensor(1.8135, grad_fn=<NllLossBackward>)\n",
            "tensor(1.8886, grad_fn=<NllLossBackward>)\n",
            "tensor(1.8062, grad_fn=<NllLossBackward>)\n",
            "tensor(1.8785, grad_fn=<NllLossBackward>)\n",
            "tensor(1.7887, grad_fn=<NllLossBackward>)\n",
            "tensor(1.7524, grad_fn=<NllLossBackward>)\n",
            "tensor(1.7837, grad_fn=<NllLossBackward>)\n",
            "tensor(1.8184, grad_fn=<NllLossBackward>)\n",
            "tensor(1.7931, grad_fn=<NllLossBackward>)\n",
            "tensor(1.8139, grad_fn=<NllLossBackward>)\n",
            "tensor(1.7143, grad_fn=<NllLossBackward>)\n",
            "tensor(1.7430, grad_fn=<NllLossBackward>)\n",
            "tensor(2.0245, grad_fn=<NllLossBackward>)\n",
            "tensor(1.9714, grad_fn=<NllLossBackward>)\n",
            "tensor(1.8460, grad_fn=<NllLossBackward>)\n",
            "tensor(1.6720, grad_fn=<NllLossBackward>)\n",
            "tensor(1.9937, grad_fn=<NllLossBackward>)\n",
            "tensor(1.8412, grad_fn=<NllLossBackward>)\n",
            "tensor(1.8720, grad_fn=<NllLossBackward>)\n",
            "tensor(1.7559, grad_fn=<NllLossBackward>)\n",
            "tensor(1.8076, grad_fn=<NllLossBackward>)\n",
            "tensor(1.9499, grad_fn=<NllLossBackward>)\n",
            "tensor(1.6997, grad_fn=<NllLossBackward>)\n",
            "tensor(1.8369, grad_fn=<NllLossBackward>)\n",
            "tensor(1.9423, grad_fn=<NllLossBackward>)\n",
            "tensor(1.9298, grad_fn=<NllLossBackward>)\n",
            "tensor(1.8144, grad_fn=<NllLossBackward>)\n",
            "tensor(1.7442, grad_fn=<NllLossBackward>)\n",
            "tensor(1.7211, grad_fn=<NllLossBackward>)\n",
            "tensor(1.6966, grad_fn=<NllLossBackward>)\n",
            "tensor(1.7679, grad_fn=<NllLossBackward>)\n",
            "tensor(1.7575, grad_fn=<NllLossBackward>)\n",
            "tensor(1.7821, grad_fn=<NllLossBackward>)\n",
            "tensor(1.5284, grad_fn=<NllLossBackward>)\n",
            "tensor(1.9788, grad_fn=<NllLossBackward>)\n",
            "tensor(1.6757, grad_fn=<NllLossBackward>)\n",
            "tensor(1.7153, grad_fn=<NllLossBackward>)\n",
            "tensor(1.7525, grad_fn=<NllLossBackward>)\n",
            "tensor(1.8161, grad_fn=<NllLossBackward>)\n",
            "tensor(1.8038, grad_fn=<NllLossBackward>)\n",
            "tensor(1.8987, grad_fn=<NllLossBackward>)\n",
            "tensor(1.8938, grad_fn=<NllLossBackward>)\n",
            "tensor(1.7785, grad_fn=<NllLossBackward>)\n",
            "tensor(1.8424, grad_fn=<NllLossBackward>)\n",
            "tensor(1.8847, grad_fn=<NllLossBackward>)\n",
            "tensor(1.7302, grad_fn=<NllLossBackward>)\n",
            "tensor(1.8344, grad_fn=<NllLossBackward>)\n",
            "tensor(1.9690, grad_fn=<NllLossBackward>)\n",
            "tensor(1.6335, grad_fn=<NllLossBackward>)\n",
            "tensor(1.7593, grad_fn=<NllLossBackward>)\n",
            "tensor(1.6326, grad_fn=<NllLossBackward>)\n",
            "tensor(1.7829, grad_fn=<NllLossBackward>)\n",
            "tensor(1.7509, grad_fn=<NllLossBackward>)\n",
            "tensor(1.8166, grad_fn=<NllLossBackward>)\n",
            "tensor(1.9110, grad_fn=<NllLossBackward>)\n",
            "tensor(1.8860, grad_fn=<NllLossBackward>)\n",
            "tensor(1.7873, grad_fn=<NllLossBackward>)\n",
            "tensor(1.6942, grad_fn=<NllLossBackward>)\n",
            "tensor(1.8925, grad_fn=<NllLossBackward>)\n",
            "tensor(1.8077, grad_fn=<NllLossBackward>)\n",
            "tensor(1.7478, grad_fn=<NllLossBackward>)\n",
            "tensor(1.8771, grad_fn=<NllLossBackward>)\n",
            "tensor(1.7793, grad_fn=<NllLossBackward>)\n",
            "tensor(1.6964, grad_fn=<NllLossBackward>)\n",
            "tensor(1.8547, grad_fn=<NllLossBackward>)\n",
            "tensor(1.7878, grad_fn=<NllLossBackward>)\n",
            "tensor(1.8375, grad_fn=<NllLossBackward>)\n",
            "tensor(1.8672, grad_fn=<NllLossBackward>)\n",
            "tensor(1.7218, grad_fn=<NllLossBackward>)\n",
            "tensor(1.8639, grad_fn=<NllLossBackward>)\n",
            "tensor(1.8301, grad_fn=<NllLossBackward>)\n",
            "tensor(1.7985, grad_fn=<NllLossBackward>)\n",
            "tensor(1.8857, grad_fn=<NllLossBackward>)\n",
            "tensor(1.8898, grad_fn=<NllLossBackward>)\n",
            "tensor(1.7332, grad_fn=<NllLossBackward>)\n",
            "tensor(1.8588, grad_fn=<NllLossBackward>)\n",
            "tensor(1.7027, grad_fn=<NllLossBackward>)\n",
            "tensor(1.7787, grad_fn=<NllLossBackward>)\n",
            "tensor(1.7729, grad_fn=<NllLossBackward>)\n",
            "tensor(1.7106, grad_fn=<NllLossBackward>)\n",
            "tensor(1.7648, grad_fn=<NllLossBackward>)\n",
            "tensor(1.7626, grad_fn=<NllLossBackward>)\n",
            "tensor(1.8296, grad_fn=<NllLossBackward>)\n",
            "tensor(1.7999, grad_fn=<NllLossBackward>)\n",
            "tensor(1.8122, grad_fn=<NllLossBackward>)\n",
            "tensor(1.7413, grad_fn=<NllLossBackward>)\n",
            "tensor(1.6054, grad_fn=<NllLossBackward>)\n",
            "tensor(1.8826, grad_fn=<NllLossBackward>)\n",
            "tensor(1.9009, grad_fn=<NllLossBackward>)\n",
            "tensor(1.9268, grad_fn=<NllLossBackward>)\n",
            "tensor(1.7360, grad_fn=<NllLossBackward>)\n",
            "tensor(1.6179, grad_fn=<NllLossBackward>)\n",
            "tensor(1.6648, grad_fn=<NllLossBackward>)\n",
            "tensor(1.8364, grad_fn=<NllLossBackward>)\n",
            "tensor(1.7633, grad_fn=<NllLossBackward>)\n",
            "tensor(1.6421, grad_fn=<NllLossBackward>)\n",
            "tensor(1.8553, grad_fn=<NllLossBackward>)\n",
            "tensor(1.8647, grad_fn=<NllLossBackward>)\n",
            "tensor(1.6912, grad_fn=<NllLossBackward>)\n",
            "tensor(1.7271, grad_fn=<NllLossBackward>)\n",
            "tensor(1.8912, grad_fn=<NllLossBackward>)\n",
            "tensor(1.8068, grad_fn=<NllLossBackward>)\n",
            "tensor(1.7877, grad_fn=<NllLossBackward>)\n",
            "tensor(1.9038, grad_fn=<NllLossBackward>)\n",
            "tensor(1.7005, grad_fn=<NllLossBackward>)\n",
            "tensor(1.7859, grad_fn=<NllLossBackward>)\n",
            "tensor(1.7983, grad_fn=<NllLossBackward>)\n",
            "tensor(1.6518, grad_fn=<NllLossBackward>)\n",
            "tensor(1.7212, grad_fn=<NllLossBackward>)\n",
            "tensor(2.1512, grad_fn=<NllLossBackward>)\n",
            "tensor(1.6974, grad_fn=<NllLossBackward>)\n",
            "tensor(1.8656, grad_fn=<NllLossBackward>)\n",
            "tensor(1.9782, grad_fn=<NllLossBackward>)\n",
            "tensor(1.8161, grad_fn=<NllLossBackward>)\n",
            "tensor(1.7034, grad_fn=<NllLossBackward>)\n",
            "tensor(1.7421, grad_fn=<NllLossBackward>)\n",
            "tensor(1.9489, grad_fn=<NllLossBackward>)\n",
            "tensor(1.5938, grad_fn=<NllLossBackward>)\n",
            "tensor(1.9707, grad_fn=<NllLossBackward>)\n",
            "tensor(1.8809, grad_fn=<NllLossBackward>)\n",
            "tensor(1.7216, grad_fn=<NllLossBackward>)\n",
            "tensor(1.8255, grad_fn=<NllLossBackward>)\n",
            "tensor(1.8348, grad_fn=<NllLossBackward>)\n",
            "tensor(1.7944, grad_fn=<NllLossBackward>)\n",
            "tensor(1.8901, grad_fn=<NllLossBackward>)\n",
            "tensor(1.8256, grad_fn=<NllLossBackward>)\n",
            "tensor(1.8739, grad_fn=<NllLossBackward>)\n",
            "tensor(1.7721, grad_fn=<NllLossBackward>)\n",
            "tensor(1.8353, grad_fn=<NllLossBackward>)\n",
            "tensor(1.8881, grad_fn=<NllLossBackward>)\n",
            "tensor(1.8736, grad_fn=<NllLossBackward>)\n",
            "tensor(1.8780, grad_fn=<NllLossBackward>)\n",
            "tensor(1.8613, grad_fn=<NllLossBackward>)\n",
            "tensor(1.7790, grad_fn=<NllLossBackward>)\n",
            "tensor(1.8507, grad_fn=<NllLossBackward>)\n",
            "tensor(1.7955, grad_fn=<NllLossBackward>)\n",
            "tensor(1.6660, grad_fn=<NllLossBackward>)\n",
            "tensor(1.7997, grad_fn=<NllLossBackward>)\n",
            "tensor(1.7623, grad_fn=<NllLossBackward>)\n",
            "tensor(1.7641, grad_fn=<NllLossBackward>)\n",
            "tensor(1.8047, grad_fn=<NllLossBackward>)\n",
            "tensor(1.8151, grad_fn=<NllLossBackward>)\n",
            "tensor(2.0112, grad_fn=<NllLossBackward>)\n",
            "tensor(1.8443, grad_fn=<NllLossBackward>)\n",
            "tensor(1.6758, grad_fn=<NllLossBackward>)\n",
            "tensor(1.7141, grad_fn=<NllLossBackward>)\n",
            "tensor(1.7016, grad_fn=<NllLossBackward>)\n",
            "tensor(1.7310, grad_fn=<NllLossBackward>)\n",
            "tensor(1.9050, grad_fn=<NllLossBackward>)\n",
            "tensor(1.8554, grad_fn=<NllLossBackward>)\n",
            "tensor(1.7384, grad_fn=<NllLossBackward>)\n",
            "tensor(1.7997, grad_fn=<NllLossBackward>)\n",
            "tensor(1.9138, grad_fn=<NllLossBackward>)\n",
            "tensor(1.6627, grad_fn=<NllLossBackward>)\n",
            "tensor(1.8231, grad_fn=<NllLossBackward>)\n",
            "tensor(1.8235, grad_fn=<NllLossBackward>)\n",
            "tensor(1.9804, grad_fn=<NllLossBackward>)\n",
            "tensor(1.7422, grad_fn=<NllLossBackward>)\n",
            "tensor(1.9000, grad_fn=<NllLossBackward>)\n",
            "tensor(1.7828, grad_fn=<NllLossBackward>)\n",
            "tensor(1.8189, grad_fn=<NllLossBackward>)\n",
            "tensor(2.0108, grad_fn=<NllLossBackward>)\n",
            "tensor(1.8521, grad_fn=<NllLossBackward>)\n",
            "tensor(1.8454, grad_fn=<NllLossBackward>)\n",
            "tensor(1.7522, grad_fn=<NllLossBackward>)\n",
            "tensor(1.7030, grad_fn=<NllLossBackward>)\n",
            "tensor(1.8246, grad_fn=<NllLossBackward>)\n",
            "tensor(1.9306, grad_fn=<NllLossBackward>)\n",
            "tensor(1.6935, grad_fn=<NllLossBackward>)\n",
            "tensor(1.7204, grad_fn=<NllLossBackward>)\n",
            "tensor(1.7332, grad_fn=<NllLossBackward>)\n",
            "tensor(1.7532, grad_fn=<NllLossBackward>)\n",
            "tensor(1.8278, grad_fn=<NllLossBackward>)\n",
            "tensor(1.7541, grad_fn=<NllLossBackward>)\n",
            "tensor(1.8655, grad_fn=<NllLossBackward>)\n",
            "tensor(1.9218, grad_fn=<NllLossBackward>)\n",
            "tensor(1.8056, grad_fn=<NllLossBackward>)\n",
            "tensor(1.7862, grad_fn=<NllLossBackward>)\n",
            "tensor(1.8646, grad_fn=<NllLossBackward>)\n",
            "tensor(1.9446, grad_fn=<NllLossBackward>)\n",
            "tensor(1.7260, grad_fn=<NllLossBackward>)\n",
            "tensor(1.7915, grad_fn=<NllLossBackward>)\n",
            "tensor(1.7613, grad_fn=<NllLossBackward>)\n",
            "tensor(1.7744, grad_fn=<NllLossBackward>)\n",
            "tensor(1.7131, grad_fn=<NllLossBackward>)\n",
            "tensor(1.7680, grad_fn=<NllLossBackward>)\n",
            "tensor(1.7720, grad_fn=<NllLossBackward>)\n",
            "tensor(1.6954, grad_fn=<NllLossBackward>)\n",
            "tensor(1.7738, grad_fn=<NllLossBackward>)\n",
            "tensor(1.7826, grad_fn=<NllLossBackward>)\n",
            "tensor(1.7865, grad_fn=<NllLossBackward>)\n",
            "tensor(1.9007, grad_fn=<NllLossBackward>)\n",
            "tensor(1.8516, grad_fn=<NllLossBackward>)\n",
            "tensor(1.9020, grad_fn=<NllLossBackward>)\n",
            "tensor(1.8601, grad_fn=<NllLossBackward>)\n",
            "tensor(1.7708, grad_fn=<NllLossBackward>)\n",
            "tensor(1.6915, grad_fn=<NllLossBackward>)\n",
            "tensor(1.8413, grad_fn=<NllLossBackward>)\n",
            "tensor(1.8019, grad_fn=<NllLossBackward>)\n",
            "tensor(1.9538, grad_fn=<NllLossBackward>)\n",
            "tensor(1.7792, grad_fn=<NllLossBackward>)\n",
            "tensor(1.7820, grad_fn=<NllLossBackward>)\n",
            "tensor(1.7021, grad_fn=<NllLossBackward>)\n",
            "tensor(1.7509, grad_fn=<NllLossBackward>)\n",
            "tensor(1.8315, grad_fn=<NllLossBackward>)\n",
            "tensor(1.8752, grad_fn=<NllLossBackward>)\n",
            "tensor(1.7571, grad_fn=<NllLossBackward>)\n",
            "tensor(1.8299, grad_fn=<NllLossBackward>)\n",
            "tensor(1.8390, grad_fn=<NllLossBackward>)\n",
            "tensor(1.6611, grad_fn=<NllLossBackward>)\n",
            "tensor(1.9031, grad_fn=<NllLossBackward>)\n",
            "tensor(1.7809, grad_fn=<NllLossBackward>)\n",
            "tensor(1.7098, grad_fn=<NllLossBackward>)\n",
            "tensor(1.9053, grad_fn=<NllLossBackward>)\n",
            "tensor(1.4821, grad_fn=<NllLossBackward>)\n",
            "tensor(1.8587, grad_fn=<NllLossBackward>)\n",
            "tensor(1.9678, grad_fn=<NllLossBackward>)\n",
            "tensor(1.9270, grad_fn=<NllLossBackward>)\n",
            "tensor(1.8173, grad_fn=<NllLossBackward>)\n",
            "tensor(1.7939, grad_fn=<NllLossBackward>)\n",
            "tensor(1.7422, grad_fn=<NllLossBackward>)\n",
            "tensor(1.7308, grad_fn=<NllLossBackward>)\n",
            "tensor(1.7731, grad_fn=<NllLossBackward>)\n",
            "tensor(1.9671, grad_fn=<NllLossBackward>)\n",
            "tensor(1.7216, grad_fn=<NllLossBackward>)\n",
            "tensor(1.9351, grad_fn=<NllLossBackward>)\n",
            "tensor(1.8092, grad_fn=<NllLossBackward>)\n",
            "tensor(2.2024, grad_fn=<NllLossBackward>)\n",
            "tensor(1.8510, grad_fn=<NllLossBackward>)\n",
            "tensor(1.7114, grad_fn=<NllLossBackward>)\n",
            "tensor(2.0913, grad_fn=<NllLossBackward>)\n",
            "tensor(1.8371, grad_fn=<NllLossBackward>)\n",
            "tensor(1.7792, grad_fn=<NllLossBackward>)\n",
            "tensor(2.0167, grad_fn=<NllLossBackward>)\n",
            "tensor(1.9214, grad_fn=<NllLossBackward>)\n",
            "tensor(1.8228, grad_fn=<NllLossBackward>)\n",
            "tensor(1.7170, grad_fn=<NllLossBackward>)\n",
            "tensor(1.9547, grad_fn=<NllLossBackward>)\n",
            "tensor(1.7422, grad_fn=<NllLossBackward>)\n",
            "tensor(1.9898, grad_fn=<NllLossBackward>)\n",
            "tensor(1.7152, grad_fn=<NllLossBackward>)\n",
            "tensor(1.9089, grad_fn=<NllLossBackward>)\n",
            "tensor(1.6911, grad_fn=<NllLossBackward>)\n",
            "tensor(1.8223, grad_fn=<NllLossBackward>)\n",
            "tensor(1.7202, grad_fn=<NllLossBackward>)\n",
            "tensor(1.6507, grad_fn=<NllLossBackward>)\n",
            "tensor(1.6667, grad_fn=<NllLossBackward>)\n",
            "tensor(1.6932, grad_fn=<NllLossBackward>)\n",
            "tensor(1.7868, grad_fn=<NllLossBackward>)\n",
            "tensor(1.9386, grad_fn=<NllLossBackward>)\n",
            "tensor(1.9831, grad_fn=<NllLossBackward>)\n",
            "tensor(1.9021, grad_fn=<NllLossBackward>)\n",
            "tensor(1.7266, grad_fn=<NllLossBackward>)\n",
            "tensor(1.8024, grad_fn=<NllLossBackward>)\n",
            "tensor(1.7860, grad_fn=<NllLossBackward>)\n",
            "tensor(2.0163, grad_fn=<NllLossBackward>)\n",
            "tensor(1.6616, grad_fn=<NllLossBackward>)\n",
            "tensor(1.7845, grad_fn=<NllLossBackward>)\n",
            "tensor(1.9005, grad_fn=<NllLossBackward>)\n",
            "tensor(1.6811, grad_fn=<NllLossBackward>)\n",
            "tensor(1.8116, grad_fn=<NllLossBackward>)\n",
            "tensor(1.7665, grad_fn=<NllLossBackward>)\n",
            "tensor(1.8315, grad_fn=<NllLossBackward>)\n",
            "tensor(1.8653, grad_fn=<NllLossBackward>)\n",
            "tensor(2.0017, grad_fn=<NllLossBackward>)\n",
            "tensor(1.7085, grad_fn=<NllLossBackward>)\n",
            "tensor(1.7954, grad_fn=<NllLossBackward>)\n",
            "tensor(1.8241, grad_fn=<NllLossBackward>)\n",
            "tensor(1.6839, grad_fn=<NllLossBackward>)\n",
            "tensor(1.7336, grad_fn=<NllLossBackward>)\n",
            "tensor(1.7247, grad_fn=<NllLossBackward>)\n",
            "tensor(2.1293, grad_fn=<NllLossBackward>)\n",
            "tensor(1.8079, grad_fn=<NllLossBackward>)\n",
            "tensor(1.8457, grad_fn=<NllLossBackward>)\n",
            "tensor(1.7802, grad_fn=<NllLossBackward>)\n",
            "tensor(1.7080, grad_fn=<NllLossBackward>)\n",
            "tensor(1.7465, grad_fn=<NllLossBackward>)\n",
            "tensor(1.8809, grad_fn=<NllLossBackward>)\n",
            "tensor(1.7993, grad_fn=<NllLossBackward>)\n",
            "tensor(1.7748, grad_fn=<NllLossBackward>)\n",
            "tensor(1.7873, grad_fn=<NllLossBackward>)\n",
            "tensor(1.8201, grad_fn=<NllLossBackward>)\n",
            "tensor(1.6954, grad_fn=<NllLossBackward>)\n",
            "tensor(1.6728, grad_fn=<NllLossBackward>)\n",
            "tensor(1.8019, grad_fn=<NllLossBackward>)\n",
            "tensor(1.7679, grad_fn=<NllLossBackward>)\n",
            "tensor(1.6344, grad_fn=<NllLossBackward>)\n",
            "tensor(1.9767, grad_fn=<NllLossBackward>)\n",
            "tensor(1.8997, grad_fn=<NllLossBackward>)\n",
            "tensor(1.7929, grad_fn=<NllLossBackward>)\n",
            "tensor(1.8338, grad_fn=<NllLossBackward>)\n",
            "tensor(1.6220, grad_fn=<NllLossBackward>)\n",
            "tensor(1.8542, grad_fn=<NllLossBackward>)\n",
            "tensor(1.8668, grad_fn=<NllLossBackward>)\n",
            "tensor(1.7540, grad_fn=<NllLossBackward>)\n",
            "tensor(1.7250, grad_fn=<NllLossBackward>)\n",
            "tensor(1.8306, grad_fn=<NllLossBackward>)\n",
            "tensor(1.7644, grad_fn=<NllLossBackward>)\n",
            "tensor(1.8747, grad_fn=<NllLossBackward>)\n",
            "tensor(1.9579, grad_fn=<NllLossBackward>)\n",
            "tensor(1.8193, grad_fn=<NllLossBackward>)\n",
            "tensor(1.8339, grad_fn=<NllLossBackward>)\n",
            "tensor(1.8483, grad_fn=<NllLossBackward>)\n",
            "tensor(1.6840, grad_fn=<NllLossBackward>)\n",
            "tensor(1.7441, grad_fn=<NllLossBackward>)\n",
            "tensor(1.8420, grad_fn=<NllLossBackward>)\n",
            "tensor(1.9954, grad_fn=<NllLossBackward>)\n",
            "tensor(1.7777, grad_fn=<NllLossBackward>)\n",
            "tensor(1.8220, grad_fn=<NllLossBackward>)\n",
            "tensor(1.7837, grad_fn=<NllLossBackward>)\n",
            "tensor(1.7927, grad_fn=<NllLossBackward>)\n",
            "tensor(1.6942, grad_fn=<NllLossBackward>)\n",
            "tensor(2.0485, grad_fn=<NllLossBackward>)\n",
            "tensor(1.8331, grad_fn=<NllLossBackward>)\n",
            "tensor(1.8265, grad_fn=<NllLossBackward>)\n",
            "tensor(1.7696, grad_fn=<NllLossBackward>)\n",
            "tensor(1.8603, grad_fn=<NllLossBackward>)\n",
            "tensor(1.7307, grad_fn=<NllLossBackward>)\n",
            "tensor(1.7884, grad_fn=<NllLossBackward>)\n",
            "tensor(1.7603, grad_fn=<NllLossBackward>)\n",
            "tensor(1.8592, grad_fn=<NllLossBackward>)\n",
            "tensor(1.8660, grad_fn=<NllLossBackward>)\n",
            "tensor(1.5821, grad_fn=<NllLossBackward>)\n",
            "tensor(1.8783, grad_fn=<NllLossBackward>)\n",
            "tensor(1.8239, grad_fn=<NllLossBackward>)\n",
            "tensor(1.7177, grad_fn=<NllLossBackward>)\n",
            "tensor(1.6971, grad_fn=<NllLossBackward>)\n",
            "tensor(1.7607, grad_fn=<NllLossBackward>)\n",
            "tensor(1.7192, grad_fn=<NllLossBackward>)\n",
            "tensor(1.8537, grad_fn=<NllLossBackward>)\n",
            "tensor(1.6624, grad_fn=<NllLossBackward>)\n",
            "tensor(1.9435, grad_fn=<NllLossBackward>)\n",
            "tensor(1.8611, grad_fn=<NllLossBackward>)\n",
            "tensor(1.7638, grad_fn=<NllLossBackward>)\n",
            "tensor(1.8302, grad_fn=<NllLossBackward>)\n",
            "tensor(1.7902, grad_fn=<NllLossBackward>)\n",
            "tensor(1.7597, grad_fn=<NllLossBackward>)\n",
            "tensor(1.9832, grad_fn=<NllLossBackward>)\n",
            "tensor(1.8578, grad_fn=<NllLossBackward>)\n",
            "tensor(1.8764, grad_fn=<NllLossBackward>)\n",
            "tensor(1.8889, grad_fn=<NllLossBackward>)\n",
            "tensor(1.6747, grad_fn=<NllLossBackward>)\n",
            "tensor(1.8096, grad_fn=<NllLossBackward>)\n",
            "tensor(1.7089, grad_fn=<NllLossBackward>)\n",
            "tensor(1.7585, grad_fn=<NllLossBackward>)\n",
            "tensor(1.9582, grad_fn=<NllLossBackward>)\n",
            "tensor(1.7483, grad_fn=<NllLossBackward>)\n",
            "tensor(1.7603, grad_fn=<NllLossBackward>)\n",
            "tensor(1.6495, grad_fn=<NllLossBackward>)\n",
            "tensor(1.8545, grad_fn=<NllLossBackward>)\n",
            "tensor(1.8757, grad_fn=<NllLossBackward>)\n",
            "tensor(1.8320, grad_fn=<NllLossBackward>)\n",
            "tensor(1.8011, grad_fn=<NllLossBackward>)\n",
            "tensor(1.8969, grad_fn=<NllLossBackward>)\n",
            "tensor(1.8139, grad_fn=<NllLossBackward>)\n",
            "tensor(1.7899, grad_fn=<NllLossBackward>)\n",
            "tensor(1.8316, grad_fn=<NllLossBackward>)\n",
            "tensor(1.7466, grad_fn=<NllLossBackward>)\n",
            "tensor(1.7824, grad_fn=<NllLossBackward>)\n",
            "tensor(1.6580, grad_fn=<NllLossBackward>)\n",
            "tensor(1.5927, grad_fn=<NllLossBackward>)\n",
            "tensor(1.7090, grad_fn=<NllLossBackward>)\n",
            "tensor(1.7058, grad_fn=<NllLossBackward>)\n",
            "tensor(1.8832, grad_fn=<NllLossBackward>)\n",
            "tensor(1.7481, grad_fn=<NllLossBackward>)\n",
            "tensor(1.7598, grad_fn=<NllLossBackward>)\n",
            "tensor(1.6993, grad_fn=<NllLossBackward>)\n",
            "tensor(1.9123, grad_fn=<NllLossBackward>)\n",
            "tensor(1.6705, grad_fn=<NllLossBackward>)\n",
            "tensor(1.8277, grad_fn=<NllLossBackward>)\n",
            "tensor(1.9499, grad_fn=<NllLossBackward>)\n",
            "tensor(1.9808, grad_fn=<NllLossBackward>)\n",
            "tensor(1.7192, grad_fn=<NllLossBackward>)\n",
            "tensor(1.9182, grad_fn=<NllLossBackward>)\n",
            "tensor(1.8738, grad_fn=<NllLossBackward>)\n",
            "tensor(1.6979, grad_fn=<NllLossBackward>)\n",
            "tensor(1.7941, grad_fn=<NllLossBackward>)\n",
            "tensor(1.8666, grad_fn=<NllLossBackward>)\n",
            "tensor(1.7793, grad_fn=<NllLossBackward>)\n",
            "tensor(1.7694, grad_fn=<NllLossBackward>)\n",
            "tensor(1.7577, grad_fn=<NllLossBackward>)\n",
            "tensor(1.7493, grad_fn=<NllLossBackward>)\n",
            "tensor(1.8339, grad_fn=<NllLossBackward>)\n",
            "tensor(1.7261, grad_fn=<NllLossBackward>)\n",
            "tensor(1.7407, grad_fn=<NllLossBackward>)\n",
            "tensor(1.7568, grad_fn=<NllLossBackward>)\n",
            "tensor(1.8014, grad_fn=<NllLossBackward>)\n",
            "tensor(1.8210, grad_fn=<NllLossBackward>)\n",
            "tensor(1.8269, grad_fn=<NllLossBackward>)\n",
            "tensor(1.7817, grad_fn=<NllLossBackward>)\n",
            "tensor(1.7804, grad_fn=<NllLossBackward>)\n",
            "tensor(1.7929, grad_fn=<NllLossBackward>)\n",
            "tensor(1.9840, grad_fn=<NllLossBackward>)\n",
            "tensor(1.8761, grad_fn=<NllLossBackward>)\n",
            "tensor(1.8118, grad_fn=<NllLossBackward>)\n",
            "tensor(1.9103, grad_fn=<NllLossBackward>)\n",
            "tensor(1.8674, grad_fn=<NllLossBackward>)\n",
            "tensor(1.8164, grad_fn=<NllLossBackward>)\n",
            "tensor(1.6354, grad_fn=<NllLossBackward>)\n",
            "tensor(1.7489, grad_fn=<NllLossBackward>)\n",
            "tensor(1.8809, grad_fn=<NllLossBackward>)\n",
            "tensor(1.9043, grad_fn=<NllLossBackward>)\n",
            "tensor(1.8154, grad_fn=<NllLossBackward>)\n",
            "tensor(1.9611, grad_fn=<NllLossBackward>)\n",
            "tensor(1.7717, grad_fn=<NllLossBackward>)\n",
            "tensor(2.0226, grad_fn=<NllLossBackward>)\n",
            "tensor(1.6786, grad_fn=<NllLossBackward>)\n",
            "tensor(1.9504, grad_fn=<NllLossBackward>)\n",
            "tensor(1.9610, grad_fn=<NllLossBackward>)\n",
            "tensor(1.9306, grad_fn=<NllLossBackward>)\n",
            "tensor(1.7551, grad_fn=<NllLossBackward>)\n",
            "tensor(1.8095, grad_fn=<NllLossBackward>)\n",
            "tensor(1.6481, grad_fn=<NllLossBackward>)\n",
            "tensor(1.8137, grad_fn=<NllLossBackward>)\n",
            "tensor(1.9263, grad_fn=<NllLossBackward>)\n",
            "tensor(1.8913, grad_fn=<NllLossBackward>)\n",
            "tensor(1.5333, grad_fn=<NllLossBackward>)\n",
            "tensor(1.6935, grad_fn=<NllLossBackward>)\n",
            "tensor(1.7145, grad_fn=<NllLossBackward>)\n",
            "tensor(1.7097, grad_fn=<NllLossBackward>)\n",
            "tensor(1.8642, grad_fn=<NllLossBackward>)\n",
            "tensor(1.8021, grad_fn=<NllLossBackward>)\n",
            "tensor(1.7949, grad_fn=<NllLossBackward>)\n",
            "tensor(1.5788, grad_fn=<NllLossBackward>)\n",
            "tensor(1.7721, grad_fn=<NllLossBackward>)\n",
            "tensor(1.9993, grad_fn=<NllLossBackward>)\n",
            "tensor(1.8605, grad_fn=<NllLossBackward>)\n",
            "tensor(1.8685, grad_fn=<NllLossBackward>)\n",
            "tensor(1.7709, grad_fn=<NllLossBackward>)\n",
            "tensor(1.6596, grad_fn=<NllLossBackward>)\n",
            "tensor(1.8986, grad_fn=<NllLossBackward>)\n",
            "tensor(1.8734, grad_fn=<NllLossBackward>)\n",
            "tensor(1.8166, grad_fn=<NllLossBackward>)\n",
            "tensor(1.8206, grad_fn=<NllLossBackward>)\n",
            "tensor(1.7411, grad_fn=<NllLossBackward>)\n",
            "tensor(1.8671, grad_fn=<NllLossBackward>)\n",
            "tensor(1.9018, grad_fn=<NllLossBackward>)\n",
            "tensor(1.7790, grad_fn=<NllLossBackward>)\n",
            "tensor(1.7398, grad_fn=<NllLossBackward>)\n",
            "tensor(1.8893, grad_fn=<NllLossBackward>)\n",
            "tensor(1.7722, grad_fn=<NllLossBackward>)\n",
            "tensor(1.7382, grad_fn=<NllLossBackward>)\n",
            "tensor(1.7649, grad_fn=<NllLossBackward>)\n",
            "tensor(1.8307, grad_fn=<NllLossBackward>)\n",
            "tensor(1.7716, grad_fn=<NllLossBackward>)\n",
            "tensor(1.7525, grad_fn=<NllLossBackward>)\n",
            "tensor(1.8494, grad_fn=<NllLossBackward>)\n",
            "tensor(1.6116, grad_fn=<NllLossBackward>)\n",
            "tensor(1.8830, grad_fn=<NllLossBackward>)\n",
            "tensor(1.8383, grad_fn=<NllLossBackward>)\n",
            "tensor(1.8211, grad_fn=<NllLossBackward>)\n",
            "tensor(2.0173, grad_fn=<NllLossBackward>)\n",
            "tensor(1.7564, grad_fn=<NllLossBackward>)\n",
            "tensor(1.8534, grad_fn=<NllLossBackward>)\n",
            "tensor(1.6372, grad_fn=<NllLossBackward>)\n",
            "tensor(1.8738, grad_fn=<NllLossBackward>)\n",
            "tensor(1.8760, grad_fn=<NllLossBackward>)\n",
            "tensor(1.8813, grad_fn=<NllLossBackward>)\n",
            "tensor(1.7365, grad_fn=<NllLossBackward>)\n",
            "tensor(1.9041, grad_fn=<NllLossBackward>)\n",
            "tensor(1.7863, grad_fn=<NllLossBackward>)\n",
            "tensor(2.0583, grad_fn=<NllLossBackward>)\n",
            "tensor(1.8107, grad_fn=<NllLossBackward>)\n",
            "tensor(1.7191, grad_fn=<NllLossBackward>)\n",
            "tensor(1.7335, grad_fn=<NllLossBackward>)\n",
            "tensor(1.7957, grad_fn=<NllLossBackward>)\n",
            "tensor(1.7692, grad_fn=<NllLossBackward>)\n",
            "tensor(1.6851, grad_fn=<NllLossBackward>)\n",
            "tensor(1.7287, grad_fn=<NllLossBackward>)\n",
            "tensor(1.8055, grad_fn=<NllLossBackward>)\n",
            "tensor(1.8492, grad_fn=<NllLossBackward>)\n",
            "tensor(1.7458, grad_fn=<NllLossBackward>)\n",
            "tensor(1.7639, grad_fn=<NllLossBackward>)\n",
            "tensor(1.8900, grad_fn=<NllLossBackward>)\n",
            "tensor(1.8524, grad_fn=<NllLossBackward>)\n",
            "tensor(1.6843, grad_fn=<NllLossBackward>)\n",
            "tensor(1.6599, grad_fn=<NllLossBackward>)\n",
            "tensor(1.8165, grad_fn=<NllLossBackward>)\n",
            "tensor(1.6928, grad_fn=<NllLossBackward>)\n",
            "tensor(1.7842, grad_fn=<NllLossBackward>)\n",
            "tensor(1.7534, grad_fn=<NllLossBackward>)\n",
            "tensor(1.7939, grad_fn=<NllLossBackward>)\n",
            "tensor(1.8536, grad_fn=<NllLossBackward>)\n",
            "tensor(1.7946, grad_fn=<NllLossBackward>)\n",
            "tensor(1.7933, grad_fn=<NllLossBackward>)\n",
            "tensor(1.8102, grad_fn=<NllLossBackward>)\n",
            "tensor(2.0314, grad_fn=<NllLossBackward>)\n",
            "tensor(1.8998, grad_fn=<NllLossBackward>)\n",
            "tensor(1.8000, grad_fn=<NllLossBackward>)\n",
            "tensor(1.8013, grad_fn=<NllLossBackward>)\n",
            "tensor(1.8979, grad_fn=<NllLossBackward>)\n",
            "tensor(1.8541, grad_fn=<NllLossBackward>)\n",
            "tensor(1.9010, grad_fn=<NllLossBackward>)\n",
            "tensor(1.7019, grad_fn=<NllLossBackward>)\n",
            "tensor(1.9286, grad_fn=<NllLossBackward>)\n",
            "tensor(1.8202, grad_fn=<NllLossBackward>)\n",
            "tensor(1.7918, grad_fn=<NllLossBackward>)\n",
            "tensor(1.7455, grad_fn=<NllLossBackward>)\n",
            "tensor(1.8334, grad_fn=<NllLossBackward>)\n",
            "tensor(1.9844, grad_fn=<NllLossBackward>)\n",
            "tensor(1.9146, grad_fn=<NllLossBackward>)\n",
            "tensor(1.8729, grad_fn=<NllLossBackward>)\n",
            "tensor(1.7312, grad_fn=<NllLossBackward>)\n",
            "tensor(1.9178, grad_fn=<NllLossBackward>)\n",
            "tensor(1.7020, grad_fn=<NllLossBackward>)\n",
            "tensor(1.6609, grad_fn=<NllLossBackward>)\n",
            "tensor(1.7876, grad_fn=<NllLossBackward>)\n",
            "tensor(1.8457, grad_fn=<NllLossBackward>)\n",
            "tensor(1.8104, grad_fn=<NllLossBackward>)\n",
            "tensor(1.8106, grad_fn=<NllLossBackward>)\n",
            "tensor(1.7384, grad_fn=<NllLossBackward>)\n",
            "tensor(1.9724, grad_fn=<NllLossBackward>)\n",
            "tensor(1.6930, grad_fn=<NllLossBackward>)\n",
            "tensor(1.7628, grad_fn=<NllLossBackward>)\n",
            "tensor(1.6801, grad_fn=<NllLossBackward>)\n",
            "tensor(1.8477, grad_fn=<NllLossBackward>)\n",
            "tensor(1.9876, grad_fn=<NllLossBackward>)\n",
            "tensor(1.7438, grad_fn=<NllLossBackward>)\n",
            "tensor(1.6649, grad_fn=<NllLossBackward>)\n",
            "tensor(1.7740, grad_fn=<NllLossBackward>)\n",
            "tensor(1.8665, grad_fn=<NllLossBackward>)\n",
            "tensor(1.7756, grad_fn=<NllLossBackward>)\n",
            "tensor(1.8396, grad_fn=<NllLossBackward>)\n",
            "tensor(1.8995, grad_fn=<NllLossBackward>)\n",
            "tensor(1.8517, grad_fn=<NllLossBackward>)\n",
            "tensor(1.7439, grad_fn=<NllLossBackward>)\n",
            "tensor(1.8743, grad_fn=<NllLossBackward>)\n",
            "tensor(1.9985, grad_fn=<NllLossBackward>)\n",
            "tensor(1.9679, grad_fn=<NllLossBackward>)\n",
            "tensor(1.7239, grad_fn=<NllLossBackward>)\n",
            "tensor(1.8115, grad_fn=<NllLossBackward>)\n",
            "tensor(1.6211, grad_fn=<NllLossBackward>)\n",
            "tensor(1.8803, grad_fn=<NllLossBackward>)\n",
            "tensor(1.6090, grad_fn=<NllLossBackward>)\n",
            "tensor(1.7547, grad_fn=<NllLossBackward>)\n",
            "tensor(1.6715, grad_fn=<NllLossBackward>)\n",
            "tensor(1.7982, grad_fn=<NllLossBackward>)\n",
            "tensor(1.7075, grad_fn=<NllLossBackward>)\n",
            "tensor(1.7026, grad_fn=<NllLossBackward>)\n",
            "tensor(1.9081, grad_fn=<NllLossBackward>)\n",
            "tensor(1.8181, grad_fn=<NllLossBackward>)\n",
            "tensor(1.8259, grad_fn=<NllLossBackward>)\n",
            "tensor(1.7724, grad_fn=<NllLossBackward>)\n",
            "tensor(1.9151, grad_fn=<NllLossBackward>)\n",
            "tensor(1.6259, grad_fn=<NllLossBackward>)\n",
            "tensor(1.7406, grad_fn=<NllLossBackward>)\n",
            "tensor(1.9841, grad_fn=<NllLossBackward>)\n",
            "tensor(2.0041, grad_fn=<NllLossBackward>)\n",
            "tensor(1.8222, grad_fn=<NllLossBackward>)\n",
            "tensor(1.8599, grad_fn=<NllLossBackward>)\n",
            "tensor(1.8821, grad_fn=<NllLossBackward>)\n",
            "tensor(1.7821, grad_fn=<NllLossBackward>)\n",
            "tensor(1.7956, grad_fn=<NllLossBackward>)\n",
            "tensor(1.5530, grad_fn=<NllLossBackward>)\n",
            "tensor(1.8381, grad_fn=<NllLossBackward>)\n",
            "tensor(1.9382, grad_fn=<NllLossBackward>)\n",
            "tensor(1.7713, grad_fn=<NllLossBackward>)\n",
            "tensor(1.9431, grad_fn=<NllLossBackward>)\n",
            "tensor(1.7511, grad_fn=<NllLossBackward>)\n",
            "tensor(1.8214, grad_fn=<NllLossBackward>)\n",
            "tensor(1.7831, grad_fn=<NllLossBackward>)\n",
            "tensor(1.8143, grad_fn=<NllLossBackward>)\n",
            "tensor(1.7924, grad_fn=<NllLossBackward>)\n",
            "tensor(1.7463, grad_fn=<NllLossBackward>)\n",
            "tensor(1.7848, grad_fn=<NllLossBackward>)\n",
            "tensor(1.8436, grad_fn=<NllLossBackward>)\n",
            "tensor(1.9428, grad_fn=<NllLossBackward>)\n",
            "tensor(1.7711, grad_fn=<NllLossBackward>)\n",
            "tensor(1.7417, grad_fn=<NllLossBackward>)\n",
            "tensor(1.8934, grad_fn=<NllLossBackward>)\n",
            "tensor(1.6529, grad_fn=<NllLossBackward>)\n",
            "tensor(1.8227, grad_fn=<NllLossBackward>)\n",
            "tensor(1.8283, grad_fn=<NllLossBackward>)\n",
            "tensor(1.6910, grad_fn=<NllLossBackward>)\n",
            "tensor(1.6651, grad_fn=<NllLossBackward>)\n",
            "tensor(1.8017, grad_fn=<NllLossBackward>)\n",
            "tensor(1.7887, grad_fn=<NllLossBackward>)\n",
            "tensor(1.8839, grad_fn=<NllLossBackward>)\n",
            "tensor(1.8495, grad_fn=<NllLossBackward>)\n",
            "tensor(1.6714, grad_fn=<NllLossBackward>)\n",
            "tensor(1.8269, grad_fn=<NllLossBackward>)\n",
            "tensor(1.6901, grad_fn=<NllLossBackward>)\n",
            "tensor(1.8139, grad_fn=<NllLossBackward>)\n",
            "tensor(1.8176, grad_fn=<NllLossBackward>)\n",
            "tensor(1.7763, grad_fn=<NllLossBackward>)\n",
            "tensor(1.8392, grad_fn=<NllLossBackward>)\n",
            "tensor(1.8132, grad_fn=<NllLossBackward>)\n",
            "tensor(1.7053, grad_fn=<NllLossBackward>)\n",
            "tensor(1.8862, grad_fn=<NllLossBackward>)\n",
            "tensor(2.0051, grad_fn=<NllLossBackward>)\n",
            "tensor(1.7860, grad_fn=<NllLossBackward>)\n",
            "tensor(1.8374, grad_fn=<NllLossBackward>)\n",
            "tensor(2.0381, grad_fn=<NllLossBackward>)\n",
            "tensor(1.7775, grad_fn=<NllLossBackward>)\n",
            "tensor(1.7827, grad_fn=<NllLossBackward>)\n",
            "tensor(1.9146, grad_fn=<NllLossBackward>)\n",
            "tensor(1.8475, grad_fn=<NllLossBackward>)\n",
            "tensor(1.9467, grad_fn=<NllLossBackward>)\n",
            "tensor(1.9573, grad_fn=<NllLossBackward>)\n",
            "tensor(1.7935, grad_fn=<NllLossBackward>)\n",
            "tensor(1.7697, grad_fn=<NllLossBackward>)\n",
            "tensor(1.9041, grad_fn=<NllLossBackward>)\n",
            "tensor(1.8592, grad_fn=<NllLossBackward>)\n",
            "tensor(1.9019, grad_fn=<NllLossBackward>)\n",
            "tensor(1.7855, grad_fn=<NllLossBackward>)\n",
            "tensor(2.0208, grad_fn=<NllLossBackward>)\n",
            "tensor(1.8460, grad_fn=<NllLossBackward>)\n",
            "tensor(1.6876, grad_fn=<NllLossBackward>)\n",
            "tensor(1.8672, grad_fn=<NllLossBackward>)\n",
            "tensor(1.6981, grad_fn=<NllLossBackward>)\n",
            "tensor(1.7730, grad_fn=<NllLossBackward>)\n",
            "tensor(1.8401, grad_fn=<NllLossBackward>)\n",
            "tensor(1.9152, grad_fn=<NllLossBackward>)\n",
            "tensor(1.9316, grad_fn=<NllLossBackward>)\n",
            "tensor(1.7921, grad_fn=<NllLossBackward>)\n",
            "tensor(1.8433, grad_fn=<NllLossBackward>)\n",
            "tensor(1.9080, grad_fn=<NllLossBackward>)\n",
            "tensor(1.7954, grad_fn=<NllLossBackward>)\n",
            "tensor(1.7389, grad_fn=<NllLossBackward>)\n",
            "tensor(1.8617, grad_fn=<NllLossBackward>)\n",
            "tensor(1.7193, grad_fn=<NllLossBackward>)\n",
            "tensor(1.9130, grad_fn=<NllLossBackward>)\n",
            "tensor(1.9097, grad_fn=<NllLossBackward>)\n",
            "tensor(1.9683, grad_fn=<NllLossBackward>)\n",
            "tensor(1.8380, grad_fn=<NllLossBackward>)\n",
            "tensor(1.8333, grad_fn=<NllLossBackward>)\n",
            "tensor(1.7319, grad_fn=<NllLossBackward>)\n",
            "tensor(1.8425, grad_fn=<NllLossBackward>)\n",
            "tensor(1.7408, grad_fn=<NllLossBackward>)\n",
            "tensor(1.7615, grad_fn=<NllLossBackward>)\n",
            "tensor(1.8712, grad_fn=<NllLossBackward>)\n",
            "tensor(1.6946, grad_fn=<NllLossBackward>)\n",
            "tensor(1.7413, grad_fn=<NllLossBackward>)\n",
            "tensor(1.7625, grad_fn=<NllLossBackward>)\n",
            "tensor(1.7086, grad_fn=<NllLossBackward>)\n",
            "tensor(1.7988, grad_fn=<NllLossBackward>)\n",
            "tensor(1.8897, grad_fn=<NllLossBackward>)\n",
            "tensor(1.8507, grad_fn=<NllLossBackward>)\n",
            "tensor(1.9370, grad_fn=<NllLossBackward>)\n",
            "tensor(1.8707, grad_fn=<NllLossBackward>)\n",
            "tensor(1.7487, grad_fn=<NllLossBackward>)\n",
            "tensor(1.7330, grad_fn=<NllLossBackward>)\n",
            "tensor(1.7905, grad_fn=<NllLossBackward>)\n",
            "tensor(1.8217, grad_fn=<NllLossBackward>)\n",
            "tensor(1.8091, grad_fn=<NllLossBackward>)\n",
            "tensor(1.8349, grad_fn=<NllLossBackward>)\n",
            "tensor(1.9431, grad_fn=<NllLossBackward>)\n",
            "tensor(1.7654, grad_fn=<NllLossBackward>)\n",
            "tensor(1.7358, grad_fn=<NllLossBackward>)\n",
            "tensor(1.6571, grad_fn=<NllLossBackward>)\n",
            "tensor(1.8056, grad_fn=<NllLossBackward>)\n",
            "tensor(1.6541, grad_fn=<NllLossBackward>)\n",
            "tensor(1.7064, grad_fn=<NllLossBackward>)\n",
            "tensor(1.7114, grad_fn=<NllLossBackward>)\n",
            "tensor(1.8653, grad_fn=<NllLossBackward>)\n",
            "tensor(1.7642, grad_fn=<NllLossBackward>)\n",
            "tensor(1.7146, grad_fn=<NllLossBackward>)\n",
            "tensor(1.8063, grad_fn=<NllLossBackward>)\n",
            "tensor(1.8005, grad_fn=<NllLossBackward>)\n",
            "tensor(1.8434, grad_fn=<NllLossBackward>)\n",
            "tensor(1.7192, grad_fn=<NllLossBackward>)\n",
            "tensor(1.7721, grad_fn=<NllLossBackward>)\n",
            "tensor(1.6777, grad_fn=<NllLossBackward>)\n",
            "tensor(1.7399, grad_fn=<NllLossBackward>)\n",
            "tensor(1.8503, grad_fn=<NllLossBackward>)\n",
            "tensor(1.7880, grad_fn=<NllLossBackward>)\n",
            "tensor(1.8927, grad_fn=<NllLossBackward>)\n",
            "tensor(1.8442, grad_fn=<NllLossBackward>)\n",
            "tensor(1.5487, grad_fn=<NllLossBackward>)\n",
            "tensor(1.7611, grad_fn=<NllLossBackward>)\n",
            "tensor(1.6387, grad_fn=<NllLossBackward>)\n",
            "tensor(1.6230, grad_fn=<NllLossBackward>)\n",
            "tensor(2.0138, grad_fn=<NllLossBackward>)\n",
            "tensor(1.8114, grad_fn=<NllLossBackward>)\n",
            "tensor(1.9119, grad_fn=<NllLossBackward>)\n",
            "tensor(1.7271, grad_fn=<NllLossBackward>)\n",
            "tensor(1.7854, grad_fn=<NllLossBackward>)\n",
            "tensor(1.6537, grad_fn=<NllLossBackward>)\n",
            "tensor(1.9117, grad_fn=<NllLossBackward>)\n",
            "tensor(1.7635, grad_fn=<NllLossBackward>)\n",
            "tensor(1.8564, grad_fn=<NllLossBackward>)\n",
            "tensor(1.9418, grad_fn=<NllLossBackward>)\n",
            "tensor(1.6577, grad_fn=<NllLossBackward>)\n",
            "tensor(1.5853, grad_fn=<NllLossBackward>)\n",
            "tensor(1.9190, grad_fn=<NllLossBackward>)\n",
            "tensor(1.6992, grad_fn=<NllLossBackward>)\n",
            "tensor(1.7506, grad_fn=<NllLossBackward>)\n",
            "tensor(1.9049, grad_fn=<NllLossBackward>)\n",
            "tensor(1.8456, grad_fn=<NllLossBackward>)\n",
            "tensor(1.7337, grad_fn=<NllLossBackward>)\n",
            "tensor(1.8483, grad_fn=<NllLossBackward>)\n",
            "tensor(1.8483, grad_fn=<NllLossBackward>)\n",
            "tensor(1.8944, grad_fn=<NllLossBackward>)\n",
            "tensor(1.7147, grad_fn=<NllLossBackward>)\n",
            "tensor(1.8766, grad_fn=<NllLossBackward>)\n",
            "tensor(1.6967, grad_fn=<NllLossBackward>)\n",
            "tensor(1.7199, grad_fn=<NllLossBackward>)\n",
            "tensor(1.8331, grad_fn=<NllLossBackward>)\n",
            "tensor(1.6973, grad_fn=<NllLossBackward>)\n",
            "tensor(1.9297, grad_fn=<NllLossBackward>)\n",
            "tensor(1.8831, grad_fn=<NllLossBackward>)\n",
            "tensor(1.8757, grad_fn=<NllLossBackward>)\n",
            "tensor(1.9209, grad_fn=<NllLossBackward>)\n",
            "tensor(1.7037, grad_fn=<NllLossBackward>)\n",
            "tensor(1.7449, grad_fn=<NllLossBackward>)\n",
            "tensor(1.7454, grad_fn=<NllLossBackward>)\n",
            "tensor(1.7408, grad_fn=<NllLossBackward>)\n",
            "tensor(1.8487, grad_fn=<NllLossBackward>)\n",
            "tensor(1.7547, grad_fn=<NllLossBackward>)\n",
            "tensor(1.9601, grad_fn=<NllLossBackward>)\n",
            "tensor(1.9373, grad_fn=<NllLossBackward>)\n",
            "tensor(1.7842, grad_fn=<NllLossBackward>)\n",
            "tensor(1.7711, grad_fn=<NllLossBackward>)\n",
            "tensor(1.9452, grad_fn=<NllLossBackward>)\n",
            "tensor(1.8617, grad_fn=<NllLossBackward>)\n",
            "tensor(1.8132, grad_fn=<NllLossBackward>)\n",
            "tensor(1.7139, grad_fn=<NllLossBackward>)\n",
            "tensor(1.8184, grad_fn=<NllLossBackward>)\n",
            "tensor(1.9497, grad_fn=<NllLossBackward>)\n",
            "tensor(1.7952, grad_fn=<NllLossBackward>)\n",
            "tensor(1.7389, grad_fn=<NllLossBackward>)\n",
            "tensor(1.7660, grad_fn=<NllLossBackward>)\n",
            "tensor(1.8218, grad_fn=<NllLossBackward>)\n",
            "tensor(1.7257, grad_fn=<NllLossBackward>)\n",
            "tensor(1.8367, grad_fn=<NllLossBackward>)\n",
            "tensor(1.7687, grad_fn=<NllLossBackward>)\n",
            "tensor(1.8575, grad_fn=<NllLossBackward>)\n",
            "tensor(1.9631, grad_fn=<NllLossBackward>)\n",
            "tensor(1.7601, grad_fn=<NllLossBackward>)\n",
            "tensor(1.7013, grad_fn=<NllLossBackward>)\n",
            "tensor(1.5785, grad_fn=<NllLossBackward>)\n",
            "tensor(1.8120, grad_fn=<NllLossBackward>)\n",
            "tensor(2.0321, grad_fn=<NllLossBackward>)\n",
            "tensor(1.8753, grad_fn=<NllLossBackward>)\n",
            "tensor(1.8655, grad_fn=<NllLossBackward>)\n",
            "tensor(1.6845, grad_fn=<NllLossBackward>)\n",
            "tensor(1.7501, grad_fn=<NllLossBackward>)\n",
            "tensor(1.7565, grad_fn=<NllLossBackward>)\n",
            "tensor(1.8969, grad_fn=<NllLossBackward>)\n",
            "tensor(1.7712, grad_fn=<NllLossBackward>)\n",
            "tensor(1.7289, grad_fn=<NllLossBackward>)\n",
            "tensor(1.7342, grad_fn=<NllLossBackward>)\n",
            "tensor(1.8508, grad_fn=<NllLossBackward>)\n",
            "tensor(1.9373, grad_fn=<NllLossBackward>)\n",
            "tensor(1.8975, grad_fn=<NllLossBackward>)\n",
            "tensor(1.8041, grad_fn=<NllLossBackward>)\n",
            "tensor(1.8827, grad_fn=<NllLossBackward>)\n",
            "tensor(1.7778, grad_fn=<NllLossBackward>)\n",
            "tensor(1.7488, grad_fn=<NllLossBackward>)\n",
            "tensor(1.7772, grad_fn=<NllLossBackward>)\n",
            "tensor(1.7615, grad_fn=<NllLossBackward>)\n",
            "tensor(1.8424, grad_fn=<NllLossBackward>)\n",
            "tensor(1.7568, grad_fn=<NllLossBackward>)\n",
            "tensor(1.8517, grad_fn=<NllLossBackward>)\n",
            "tensor(1.7195, grad_fn=<NllLossBackward>)\n",
            "tensor(1.9762, grad_fn=<NllLossBackward>)\n",
            "tensor(1.8297, grad_fn=<NllLossBackward>)\n",
            "tensor(1.8386, grad_fn=<NllLossBackward>)\n",
            "tensor(1.7973, grad_fn=<NllLossBackward>)\n",
            "tensor(1.9693, grad_fn=<NllLossBackward>)\n",
            "tensor(1.8463, grad_fn=<NllLossBackward>)\n",
            "tensor(1.9146, grad_fn=<NllLossBackward>)\n",
            "tensor(1.7199, grad_fn=<NllLossBackward>)\n",
            "tensor(1.6737, grad_fn=<NllLossBackward>)\n",
            "tensor(1.7848, grad_fn=<NllLossBackward>)\n",
            "tensor(1.7139, grad_fn=<NllLossBackward>)\n",
            "tensor(1.7129, grad_fn=<NllLossBackward>)\n",
            "tensor(1.9629, grad_fn=<NllLossBackward>)\n",
            "tensor(1.9432, grad_fn=<NllLossBackward>)\n",
            "tensor(1.7845, grad_fn=<NllLossBackward>)\n",
            "tensor(1.7725, grad_fn=<NllLossBackward>)\n",
            "tensor(1.8271, grad_fn=<NllLossBackward>)\n",
            "tensor(1.8017, grad_fn=<NllLossBackward>)\n",
            "tensor(1.9638, grad_fn=<NllLossBackward>)\n",
            "tensor(1.7476, grad_fn=<NllLossBackward>)\n",
            "tensor(1.7083, grad_fn=<NllLossBackward>)\n",
            "tensor(1.9351, grad_fn=<NllLossBackward>)\n",
            "tensor(1.7967, grad_fn=<NllLossBackward>)\n",
            "tensor(1.7886, grad_fn=<NllLossBackward>)\n",
            "tensor(1.4025, grad_fn=<NllLossBackward>)\n",
            "Finished Training\n"
          ],
          "name": "stdout"
        }
      ]
    },
    {
      "cell_type": "code",
      "metadata": {
        "id": "tMkndEa8f23h",
        "colab_type": "code",
        "colab": {}
      },
      "source": [
        "PATH = './data/cifar_net.pth'\n",
        "torch.save(net.state_dict(), PATH)"
      ],
      "execution_count": 0,
      "outputs": []
    },
    {
      "cell_type": "code",
      "metadata": {
        "id": "thH6vIkpiTaO",
        "colab_type": "code",
        "outputId": "7858c14a-23d7-4710-9ee1-b4883c5465dc",
        "colab": {
          "base_uri": "https://localhost:8080/",
          "height": 34
        }
      },
      "source": [
        "ls ./data/ "
      ],
      "execution_count": 73,
      "outputs": [
        {
          "output_type": "stream",
          "text": [
            "\u001b[0m\u001b[01;34mcifar-10-batches-py\u001b[0m/  cifar-10-python.tar.gz  cifar_net.pth\n"
          ],
          "name": "stdout"
        }
      ]
    },
    {
      "cell_type": "code",
      "metadata": {
        "id": "NlCce_sxie4c",
        "colab_type": "code",
        "outputId": "10c6ae3c-a3ae-4e2f-f4fd-6e55488d4b27",
        "colab": {
          "base_uri": "https://localhost:8080/",
          "height": 286
        }
      },
      "source": [
        "dataiter = iter(testloader)\n",
        "images, labels = dataiter.next()\n",
        "\n",
        "# print images\n",
        "imshow(torchvision.utils.make_grid(images))\n",
        "print('GroundTruth: ', ' '.join('%5s' % classes[labels[j]] for j in range(4)))"
      ],
      "execution_count": 67,
      "outputs": [
        {
          "output_type": "display_data",
          "data": {
            "image/png": "[encoded data removed]",
            "text/plain": [
              "<Figure size 432x288 with 1 Axes>"
            ]
          },
          "metadata": {
            "tags": []
          }
        },
        {
          "output_type": "stream",
          "text": [
            "GroundTruth:    cat  ship  ship plane\n"
          ],
          "name": "stdout"
        }
      ]
    },
    {
      "cell_type": "code",
      "metadata": {
        "id": "nB5iQuhZi7Tp",
        "colab_type": "code",
        "outputId": "3f1eb84a-e6d5-4cac-fd48-1a8ec1bf7167",
        "colab": {
          "base_uri": "https://localhost:8080/",
          "height": 34
        }
      },
      "source": [
        "net = Classification()\n",
        "net.load_state_dict(torch.load('./data/cifar_net.pth'))"
      ],
      "execution_count": 75,
      "outputs": [
        {
          "output_type": "execute_result",
          "data": {
            "text/plain": [
              "<All keys matched successfully>"
            ]
          },
          "metadata": {
            "tags": []
          },
          "execution_count": 75
        }
      ]
    },
    {
      "cell_type": "code",
      "metadata": {
        "id": "8svKUWlGjJFL",
        "colab_type": "code",
        "colab": {}
      },
      "source": [
        "outputs = net(images)"
      ],
      "execution_count": 0,
      "outputs": []
    },
    {
      "cell_type": "code",
      "metadata": {
        "id": "OUYXVl6JjPz8",
        "colab_type": "code",
        "outputId": "f84cda76-b7d1-4291-c4a7-371f28d0f4b6",
        "colab": {
          "base_uri": "https://localhost:8080/",
          "height": 34
        }
      },
      "source": [
        "_, predicted = torch.max(outputs, 1)\n",
        "\n",
        "print('Predicted: ', ' '.join('%5s' % classes[predicted[j]]\n",
        "                              for j in range(4)))"
      ],
      "execution_count": 79,
      "outputs": [
        {
          "output_type": "stream",
          "text": [
            "Predicted:   bird   cat  ship  ship\n"
          ],
          "name": "stdout"
        }
      ]
    },
    {
      "cell_type": "code",
      "metadata": {
        "id": "Me0OSEy-jS8a",
        "colab_type": "code",
        "outputId": "f096704f-57ad-4f3a-dc20-eb2d3857ecbc",
        "colab": {
          "base_uri": "https://localhost:8080/",
          "height": 34
        }
      },
      "source": [
        "correct = 0\n",
        "total = 0\n",
        "with torch.no_grad():\n",
        "    for data in testloader:\n",
        "        images, labels = data\n",
        "        outputs = net(images)\n",
        "        _, predicted = torch.max(outputs.data, 1)\n",
        "        total += labels.size(0)\n",
        "        correct += (predicted == labels).sum().item()\n",
        "\n",
        "print('Accuracy of the network on the 10000 test images: %d %%' % (\n",
        "    100 * correct / total))"
      ],
      "execution_count": 80,
      "outputs": [
        {
          "output_type": "stream",
          "text": [
            "Accuracy of the network on the 10000 test images: 35 %\n"
          ],
          "name": "stdout"
        }
      ]
    },
    {
      "cell_type": "code",
      "metadata": {
        "id": "SDggmQCRjZ8O",
        "colab_type": "code",
        "outputId": "53675e36-0bfd-4cdd-b1fe-3bf2e7323e29",
        "colab": {
          "base_uri": "https://localhost:8080/",
          "height": 188
        }
      },
      "source": [
        "class_correct = list(0. for i in range(10))\n",
        "class_total = list(0. for i in range(10))\n",
        "with torch.no_grad():\n",
        "    for data in testloader:\n",
        "        images, labels = data\n",
        "        outputs = net(images)\n",
        "        _, predicted = torch.max(outputs, 1)\n",
        "        c = (predicted == labels).squeeze()\n",
        "        for i in range(4):\n",
        "            label = labels[i]\n",
        "            class_correct[label] += c[i].item()\n",
        "            class_total[label] += 1\n",
        "\n",
        "\n",
        "for i in range(10):\n",
        "    print('Accuracy of %5s : %2d %%' % (\n",
        "        classes[i], 100 * class_correct[i] / class_total[i]))"
      ],
      "execution_count": 81,
      "outputs": [
        {
          "output_type": "stream",
          "text": [
            "Accuracy of plane : 46 %\n",
            "Accuracy of   car : 36 %\n",
            "Accuracy of  bird : 17 %\n",
            "Accuracy of   cat : 17 %\n",
            "Accuracy of  deer :  7 %\n",
            "Accuracy of   dog : 27 %\n",
            "Accuracy of  frog : 67 %\n",
            "Accuracy of horse : 45 %\n",
            "Accuracy of  ship : 48 %\n",
            "Accuracy of truck : 48 %\n"
          ],
          "name": "stdout"
        }
      ]
    },
    {
      "cell_type": "markdown",
      "metadata": {
        "id": "8_VyHTj3jyFd",
        "colab_type": "text"
      },
      "source": [
        "# **What can we do to improve our network?**"
      ]
    }
  ]
}